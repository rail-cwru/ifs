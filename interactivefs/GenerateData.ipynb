{
 "cells": [
  {
   "cell_type": "code",
   "execution_count": 1,
   "metadata": {
    "collapsed": true
   },
   "outputs": [],
   "source": [
    "from pgmpy.sampling import HamiltonianMCDA as HMCda, GradLogPDFGaussian as GLPG, LeapFrog"
   ]
  },
  {
   "cell_type": "code",
   "execution_count": 2,
   "metadata": {
    "collapsed": true
   },
   "outputs": [],
   "source": [
    "%matplotlib inline\n",
    "from pgmpy.factors.distributions import GaussianDistribution as JGD\n",
    "from pgmpy.sampling import LeapFrog, GradLogPDFGaussian\n",
    "import numpy as np\n",
    "import matplotlib.pyplot as plt"
   ]
  },
  {
   "cell_type": "code",
   "execution_count": 3,
   "metadata": {
    "collapsed": true
   },
   "outputs": [],
   "source": [
    "from pgmpy.models.BayesianModel import BayesianModel\n",
    "from pgmpy.factors.discrete import TabularCPD\n",
    "from pgmpy.sampling import BayesianModelSampling\n",
    "student = BayesianModel([('schoolsupport', 'age'), ('famsupport', 'extraclasses'), ('motheredu', 'college'),\n",
    "                        ('alcweekend', 'goingoutrating'), ( 'freetimerating', 'goingoutrating'), ('alcweekend', 'studytime'),\n",
    "                        ('goingoutrating', 'failure'), ('grade', 'failure'), ('extraclasses', 'grade'), ('college', 'grade')])"
   ]
  },
  {
   "cell_type": "code",
   "execution_count": 22,
   "metadata": {
    "collapsed": true
   },
   "outputs": [],
   "source": [
    "import os\n",
    "import pandas as pd\n",
    "import pydot\n",
    "from IPython.display import SVG\n",
    "from pycausal.pycausal import pycausal as pycausal\n",
    "from pycausal import search as search"
   ]
  },
  {
   "cell_type": "code",
   "execution_count": 5,
   "metadata": {
    "collapsed": true
   },
   "outputs": [],
   "source": [
    "from sklearn.naive_bayes import GaussianNB\n",
    "from sklearn.ensemble import RandomForestClassifier\n",
    "from sklearn.neighbors import KNeighborsClassifier\n",
    "from sklearn.tree import DecisionTreeClassifier\n",
    "from sklearn.svm import SVC\n",
    "from sklearn.model_selection import StratifiedKFold\n",
    "from sklearn.metrics import precision_score\n",
    "from sklearn.metrics import recall_score\n",
    "from sklearn.model_selection import cross_val_predict\n",
    "from sklearn.model_selection import cross_val_score"
   ]
  },
  {
   "cell_type": "code",
   "execution_count": 6,
   "metadata": {
    "collapsed": true
   },
   "outputs": [],
   "source": [
    "def add_to_arr(nested, new_arr):\n",
    "    for i, x in enumerate(new_arr):\n",
    "        nested[i].append(x)\n",
    "    return nested"
   ]
  },
  {
   "cell_type": "code",
   "execution_count": 7,
   "metadata": {
    "collapsed": true
   },
   "outputs": [],
   "source": [
    "def norm(arr):\n",
    "    s = sum(arr)\n",
    "    return [float(x)/s for x in arr]"
   ]
  },
  {
   "cell_type": "code",
   "execution_count": 8,
   "metadata": {
    "collapsed": true
   },
   "outputs": [],
   "source": [
    "def norm_2d(arr):\n",
    "    num_col = len(arr[0])\n",
    "    nested = [[] for x in arr]\n",
    "    for i in range(num_col):\n",
    "        col = map(lambda x : x[i], arr)\n",
    "        #print col\n",
    "        nested = add_to_arr(nested, norm(col))\n",
    "        #print nested\n",
    "    return nested  "
   ]
  },
  {
   "cell_type": "code",
   "execution_count": 80,
   "metadata": {},
   "outputs": [
    {
     "data": {
      "text/plain": [
       "array([ 0.51960784,  0.72      ,  0.75      ,  0.80808081,  0.70707071])"
      ]
     },
     "execution_count": 80,
     "metadata": {},
     "output_type": "execute_result"
    }
   ],
   "source": [
    "### EASY GRAPH \n",
    "model = BayesianModel([('grade', 'scholarship'),\n",
    "                       ('grade', 'college'),\n",
    "                       ('college', 'scholarship'),\n",
    "                      ('extraclasses', 'grade'), \n",
    "                      ('extracurriculars', 'college')])\n",
    "\n",
    "# no, yes\n",
    "extraclasses = TabularCPD('extraclasses', 2, [[0.35], [0.65]])\n",
    "extracurriculars = TabularCPD('extracurriculars', 2, [[0.25], [0.75]])\n",
    "\n",
    "# F C B A\n",
    "gradecpd = norm_2d([[0.9, 0.1], \n",
    "                    [0.35, 0.3],\n",
    "                    [0.25, 0.5],\n",
    "                    [0.1, 0.95]])\n",
    "\n",
    "grade = TabularCPD('grade', 4, gradecpd, \n",
    "                  evidence=['extraclasses'],\n",
    "                  evidence_card=[2])\n",
    "\n",
    "# A 0 \n",
    "collegecpd = norm_2d([[99, 80, 5, 2, 80, 60, 10, 10],\n",
    "                      [1, 2, 40, 55, 20, 40, 88, 99]])\n",
    "\n",
    "college = TabularCPD('college', 2, collegecpd, \n",
    "                    evidence=['grade', 'extracurriculars'],\n",
    "                    evidence_card=[4, 2])\n",
    "\n",
    "se = norm_2d([[1, 1, 1, 1, 90, 60, 2, 2 ],\n",
    "             [0, 0, 0, 0, 2, 5, 75, 60 ]])\n",
    "\n",
    "scholarship = TabularCPD('scholarship', 2, se,\n",
    "                         evidence=[\"college\", 'grade'],\n",
    "                         evidence_card=[2,4])\n",
    "\n",
    "model.add_cpds(extraclasses)\n",
    "model.add_cpds(extracurriculars)\n",
    "model.add_cpds(grade)\n",
    "model.add_cpds(scholarship)\n",
    "model.add_cpds(college)\n",
    "\n",
    "inf = BayesianModelSampling(model)\n",
    "samples = inf.forward_sample(size=500, return_type='dataframe')\n",
    "features = ['extracurriculars', 'college', 'extraclasses', 'scholarship']\n",
    "X = samples.loc[:,features]\n",
    "accuracy = cross_val_score(clf, X, samples['grade'], cv=skf)\n",
    "accuracy"
   ]
  },
  {
   "cell_type": "code",
   "execution_count": 81,
   "metadata": {
    "collapsed": true
   },
   "outputs": [],
   "source": [
    "ag = [[2],[3],[3],[3],[3],[0.5],[0.4],[0.1]]\n",
    "ag_norm = norm_2d(ag)\n",
    "age = TabularCPD('age', 8, ag_norm)\n",
    "#schoolsupport = TabularCPD('schoolsupport', 2, [[0.35], [0.65]])"
   ]
  },
  {
   "cell_type": "code",
   "execution_count": 13,
   "metadata": {},
   "outputs": [
    {
     "data": {
      "text/plain": [
       "array([ 0.88118812,  0.85148515,  0.87128713,  0.8989899 ,  0.85714286])"
      ]
     },
     "execution_count": 13,
     "metadata": {},
     "output_type": "execute_result"
    }
   ],
   "source": [
    "ag = [[2],[3],[3],[3],[3]]\n",
    "ag_norm = norm_2d(ag)\n",
    "age = TabularCPD('age', 5, ag_norm)\n",
    "\n",
    "#extraclasses = TabularCPD('extraclasses', 2, [[0.4], [0.6]])\n",
    "\n",
    "mj = norm_2d([[0.25], [0.75]])\n",
    "motherhasjob = TabularCPD('motherhasjob', 2, mj)\n",
    "\n",
    "fj = norm_2d([[0.15], [0.85]])\n",
    "fatherhasjob = TabularCPD('fatherhasjob', 2, fj)\n",
    "\n",
    "# motherhasjob = 1, fatherhasjob = 1\n",
    "fi = norm_2d([[0.99, 0.75, 0.65, 0.1],\n",
    "              [0.01, 0.25, 0.35, 0.9]])\n",
    "             \n",
    "familyincome = TabularCPD('familyincome', 2, fi, \n",
    "                         evidence=['motherhasjob','fatherhasjob'],\n",
    "                         evidence_card=[2,2])\n",
    "# g A B C F \n",
    "# extraclasses 1 college 0             \n",
    "extraclasses = TabularCPD('extraclasses', 2, \n",
    "                          [[0.8, 0.1], \n",
    "                           [0.2, 0.9]], \n",
    "                         evidence=['familyincome'], \n",
    "                         evidence_card=[2])\n",
    "\n",
    "familysupport = TabularCPD('familysupport', 2, \n",
    "                          [[0.95, 0.05], \n",
    "                           [0.05, 0.95]], \n",
    "                         evidence=['familyincome'],\n",
    "                         evidence_card=[2])\n",
    "\n",
    "extracurriculars = TabularCPD('extracurriculars', 2, [[0.4],[0.6]])\n",
    "\n",
    "# 0\n",
    "jnorm = norm_2d([[0.2, 0.9], \n",
    "                 [0.8, 0.1]])\n",
    "\n",
    "job = TabularCPD('job', 2, jnorm, evidence=['extracurriculars'], evidence_card=[2])\n",
    "st = norm_2d([[0.9, 0.1],\n",
    "              [0.75, 0.2],\n",
    "              [0.2, 0.8],\n",
    "              [0.05, 0.9]])\n",
    "\n",
    "studytime = TabularCPD('studytime', 4, st,\n",
    "                       evidence=['job'],\n",
    "                       evidence_card=[2])\n",
    "\n",
    "# ec = 1, famincome = 1, studytime=2 F C B A\n",
    "g = norm_2d([[90, 90, 2, 1,  30, 20, 2, 1,   2, 5, 2, 1,    2, 5, 2, 1],\n",
    "             [4, 10, 3, 2,   85, 90, 2, 1,   60, 70, 2, 1,  50, 5, 2, 1],\n",
    "             [2, 1, 85, 25,  5, 5, 90, 5,    5, 10, 70, 3,  3, 50, 10, 5],\n",
    "             [1, 1, 2, 85,   2, 2, 1, 90,    2, 2, 10, 55,  2, 3, 85, 90]])\n",
    "grade = TabularCPD('grade', 4, g, \n",
    "                     evidence=['extraclasses', 'familysupport', 'studytime'],\n",
    "                     evidence_card=[2,2,4])\n",
    "\n",
    "co = norm_2d([[80, 40, 2, 2 ],\n",
    "     [2, 5, 65, 55 ]])\n",
    "college = TabularCPD('college', 2, co,\n",
    "                         evidence=['grade'],\n",
    "                         evidence_card=[4])\n",
    "\n",
    "s = norm_2d([[1, 1, 1, 1, 90, 60, 2, 2 ],\n",
    "             [0, 0, 0, 0, 2, 5, 75, 60 ]])\n",
    "scholarship = TabularCPD('scholarship', 2, s,\n",
    "                         evidence=[\"college\", 'grade'],\n",
    "                         evidence_card=[2,4])\n",
    "\n",
    "\n",
    "model = BayesianModel([('extracurriculars', 'job'),\n",
    "                        ('job', 'studytime'),\n",
    "                       ('motherhasjob', 'familyincome'),\n",
    "                       ('fatherhasjob', 'familyincome'),\n",
    "                    ('familyincome', 'familysupport'), \n",
    "                    ('familyincome', 'extraclasses'), \n",
    "                    ('extraclasses', 'grade'), \n",
    "                    ('familysupport', 'grade'),\n",
    "                    ('studytime', 'grade'),\n",
    "                   ('grade', 'scholarship'),\n",
    "                   ('grade', 'college'),\n",
    "                   ('college', 'scholarship')])\n",
    "#print model.edges\n",
    "model.add_node('age')\n",
    "model.add_cpds(age)\n",
    "model.add_cpds(fatherhasjob)\n",
    "model.add_cpds(motherhasjob)\n",
    "model.add_cpds(familyincome)\n",
    "model.add_cpds(familysupport)\n",
    "model.add_cpds(extraclasses)\n",
    "model.add_cpds(extracurriculars)\n",
    "model.add_cpds(job)\n",
    "model.add_cpds(studytime)\n",
    "model.add_cpds(grade)\n",
    "model.add_cpds(scholarship)\n",
    "model.add_cpds(college)\n",
    "inf = BayesianModelSampling(model)\n",
    "samples = inf.forward_sample(size=500, return_type='dataframe')\n",
    "\n",
    "features = ['familysupport', 'studytime', 'extraclasses', 'scholarship']\n",
    "X = samples.loc[:,features]\n",
    "index = 5\n",
    "accuracy = cross_val_score(clf, X, samples['grade'], cv=skf)\n",
    "accuracy"
   ]
  },
  {
   "cell_type": "code",
   "execution_count": 9,
   "metadata": {
    "collapsed": true
   },
   "outputs": [],
   "source": []
  },
  {
   "cell_type": "code",
   "execution_count": 163,
   "metadata": {
    "collapsed": true
   },
   "outputs": [],
   "source": [
    "p.stop_vm()"
   ]
  },
  {
   "cell_type": "code",
   "execution_count": 89,
   "metadata": {},
   "outputs": [
    {
     "ename": "TypeError",
     "evalue": "unbound method tetradGraphToDot() must be called with pycausal instance as first argument (got JWrapper instance instead)",
     "output_type": "error",
     "traceback": [
      "\u001b[0;31m---------------------------------------------------------------------------\u001b[0m",
      "\u001b[0;31mTypeError\u001b[0m                                 Traceback (most recent call last)",
      "\u001b[0;32m<ipython-input-89-732abc81c2b0>\u001b[0m in \u001b[0;36m<module>\u001b[0;34m()\u001b[0m\n\u001b[1;32m      2\u001b[0m penaltyDiscount = 2, maxDegree = -1, faithfulnessAssumed = True, verbose = True)\n\u001b[1;32m      3\u001b[0m \u001b[0;34m\u001b[0m\u001b[0m\n\u001b[0;32m----> 4\u001b[0;31m \u001b[0mdot_str\u001b[0m \u001b[0;34m=\u001b[0m \u001b[0mpc\u001b[0m\u001b[0;34m.\u001b[0m\u001b[0mtetradGraphToDot\u001b[0m\u001b[0;34m(\u001b[0m\u001b[0mtetrad\u001b[0m\u001b[0;34m.\u001b[0m\u001b[0mgetTetradGraph\u001b[0m\u001b[0;34m(\u001b[0m\u001b[0;34m)\u001b[0m\u001b[0;34m)\u001b[0m\u001b[0;34m\u001b[0m\u001b[0m\n\u001b[0m\u001b[1;32m      5\u001b[0m \u001b[0mgraphs\u001b[0m \u001b[0;34m=\u001b[0m \u001b[0mpydot\u001b[0m\u001b[0;34m.\u001b[0m\u001b[0mgraph_from_dot_data\u001b[0m\u001b[0;34m(\u001b[0m\u001b[0mdot_str\u001b[0m\u001b[0;34m)\u001b[0m\u001b[0;34m\u001b[0m\u001b[0m\n\u001b[1;32m      6\u001b[0m \u001b[0msvg_str\u001b[0m \u001b[0;34m=\u001b[0m \u001b[0mgraphs\u001b[0m\u001b[0;34m[\u001b[0m\u001b[0;36m0\u001b[0m\u001b[0;34m]\u001b[0m\u001b[0;34m.\u001b[0m\u001b[0mcreate_svg\u001b[0m\u001b[0;34m(\u001b[0m\u001b[0;34m)\u001b[0m\u001b[0;34m\u001b[0m\u001b[0m\n",
      "\u001b[0;31mTypeError\u001b[0m: unbound method tetradGraphToDot() must be called with pycausal instance as first argument (got JWrapper instance instead)"
     ]
    }
   ],
   "source": [
    "tetrad.run(algoId = 'fges', dfs = samples, scoreId = 'sem-bic', dataType = 'continuous',\n",
    "penaltyDiscount = 2, maxDegree = -1, faithfulnessAssumed = True, verbose = True)\n",
    "\n",
    "dot_str = pc.tetradGraphToDot(tetrad.getTetradGraph())\n",
    "graphs = pydot.graph_from_dot_data(dot_str)\n",
    "svg_str = graphs[0].create_svg()\n",
    "SVG(svg_str)"
   ]
  },
  {
   "cell_type": "code",
   "execution_count": 90,
   "metadata": {},
   "outputs": [
    {
     "data": {
      "text/html": [
       "<div>\n",
       "<style>\n",
       "    .dataframe thead tr:only-child th {\n",
       "        text-align: right;\n",
       "    }\n",
       "\n",
       "    .dataframe thead th {\n",
       "        text-align: left;\n",
       "    }\n",
       "\n",
       "    .dataframe tbody tr th {\n",
       "        vertical-align: top;\n",
       "    }\n",
       "</style>\n",
       "<table border=\"1\" class=\"dataframe\">\n",
       "  <thead>\n",
       "    <tr style=\"text-align: right;\">\n",
       "      <th></th>\n",
       "      <th>extraclasses</th>\n",
       "      <th>extracurriculars</th>\n",
       "      <th>college</th>\n",
       "      <th>scholarship</th>\n",
       "      <th>grade</th>\n",
       "    </tr>\n",
       "  </thead>\n",
       "  <tbody>\n",
       "    <tr>\n",
       "      <th>0</th>\n",
       "      <td>1</td>\n",
       "      <td>1</td>\n",
       "      <td>0</td>\n",
       "      <td>0</td>\n",
       "      <td>2</td>\n",
       "    </tr>\n",
       "    <tr>\n",
       "      <th>1</th>\n",
       "      <td>1</td>\n",
       "      <td>0</td>\n",
       "      <td>0</td>\n",
       "      <td>0</td>\n",
       "      <td>1</td>\n",
       "    </tr>\n",
       "    <tr>\n",
       "      <th>2</th>\n",
       "      <td>1</td>\n",
       "      <td>1</td>\n",
       "      <td>1</td>\n",
       "      <td>1</td>\n",
       "      <td>3</td>\n",
       "    </tr>\n",
       "    <tr>\n",
       "      <th>3</th>\n",
       "      <td>1</td>\n",
       "      <td>1</td>\n",
       "      <td>1</td>\n",
       "      <td>1</td>\n",
       "      <td>3</td>\n",
       "    </tr>\n",
       "    <tr>\n",
       "      <th>4</th>\n",
       "      <td>1</td>\n",
       "      <td>1</td>\n",
       "      <td>1</td>\n",
       "      <td>1</td>\n",
       "      <td>3</td>\n",
       "    </tr>\n",
       "  </tbody>\n",
       "</table>\n",
       "</div>"
      ],
      "text/plain": [
       "   extraclasses  extracurriculars  college  scholarship  grade\n",
       "0             1                 1        0            0      2\n",
       "1             1                 0        0            0      1\n",
       "2             1                 1        1            1      3\n",
       "3             1                 1        1            1      3\n",
       "4             1                 1        1            1      3"
      ]
     },
     "execution_count": 90,
     "metadata": {},
     "output_type": "execute_result"
    }
   ],
   "source": [
    "cols = list(samples)\n",
    "# move the column to head of list using index, pop and insert\n",
    "cols.append(cols.pop(cols.index('grade')))\n",
    "samples = samples.loc[:, cols]\n",
    "samples.head()"
   ]
  },
  {
   "cell_type": "code",
   "execution_count": 104,
   "metadata": {
    "collapsed": true
   },
   "outputs": [],
   "source": [
    "samples.to_csv('datafile.csv', index=False)"
   ]
  },
  {
   "cell_type": "code",
   "execution_count": null,
   "metadata": {
    "collapsed": true
   },
   "outputs": [],
   "source": [
    "samples['age'].unique()"
   ]
  },
  {
   "cell_type": "code",
   "execution_count": 103,
   "metadata": {},
   "outputs": [
    {
     "data": {
      "text/html": [
       "<div>\n",
       "<style>\n",
       "    .dataframe thead tr:only-child th {\n",
       "        text-align: right;\n",
       "    }\n",
       "\n",
       "    .dataframe thead th {\n",
       "        text-align: left;\n",
       "    }\n",
       "\n",
       "    .dataframe tbody tr th {\n",
       "        vertical-align: top;\n",
       "    }\n",
       "</style>\n",
       "<table border=\"1\" class=\"dataframe\">\n",
       "  <thead>\n",
       "    <tr style=\"text-align: right;\">\n",
       "      <th></th>\n",
       "      <th>extraclasses</th>\n",
       "      <th>extracurriculars</th>\n",
       "      <th>college</th>\n",
       "      <th>scholarship</th>\n",
       "      <th>grade</th>\n",
       "    </tr>\n",
       "  </thead>\n",
       "  <tbody>\n",
       "    <tr>\n",
       "      <th>0</th>\n",
       "      <td>yes</td>\n",
       "      <td>yes</td>\n",
       "      <td>no</td>\n",
       "      <td>no</td>\n",
       "      <td>B</td>\n",
       "    </tr>\n",
       "    <tr>\n",
       "      <th>1</th>\n",
       "      <td>yes</td>\n",
       "      <td>no</td>\n",
       "      <td>no</td>\n",
       "      <td>no</td>\n",
       "      <td>C</td>\n",
       "    </tr>\n",
       "    <tr>\n",
       "      <th>2</th>\n",
       "      <td>yes</td>\n",
       "      <td>yes</td>\n",
       "      <td>yes</td>\n",
       "      <td>yes</td>\n",
       "      <td>A</td>\n",
       "    </tr>\n",
       "    <tr>\n",
       "      <th>3</th>\n",
       "      <td>yes</td>\n",
       "      <td>yes</td>\n",
       "      <td>yes</td>\n",
       "      <td>yes</td>\n",
       "      <td>A</td>\n",
       "    </tr>\n",
       "    <tr>\n",
       "      <th>4</th>\n",
       "      <td>yes</td>\n",
       "      <td>yes</td>\n",
       "      <td>yes</td>\n",
       "      <td>yes</td>\n",
       "      <td>A</td>\n",
       "    </tr>\n",
       "  </tbody>\n",
       "</table>\n",
       "</div>"
      ],
      "text/plain": [
       "  extraclasses extracurriculars college scholarship grade\n",
       "0          yes              yes      no          no     B\n",
       "1          yes               no      no          no     C\n",
       "2          yes              yes     yes         yes     A\n",
       "3          yes              yes     yes         yes     A\n",
       "4          yes              yes     yes         yes     A"
      ]
     },
     "execution_count": 103,
     "metadata": {},
     "output_type": "execute_result"
    }
   ],
   "source": [
    "samples.head()"
   ]
  },
  {
   "cell_type": "code",
   "execution_count": null,
   "metadata": {
    "collapsed": true
   },
   "outputs": [],
   "source": [
    "convert_values(samples, 'motherhasjob', [0,1], ['yes', 'no'])\n",
    "#convert_values(samples, 'fatherhasjob', [0,1], ['no', 'yes'])\n",
    "convert_values(samples, 'extracurriculars', [0,1], ['no', 'yes'])\n",
    "convert_values(samples, 'job', [0,1], ['no', 'yes'])\n",
    "convert_values(samples, 'studytime', [0,1,2,3], [\"less_than_2hr\", \"2_to_5hr\", \"5_to_10hr\", \"greater_than_10\"])\n",
    "convert_values(samples, 'age', [0,1,2,3,4], [14,15,16,17,18])\n",
    "convert_values(samples, 'familyincome', [0,1], ['below_avg', 'above_avg'])\n",
    "convert_values(samples, 'extraclasses', [0,1], ['no', 'yes'])\n",
    "convert_values(samples, 'familysupport', [0,1], ['no', 'yes'])\n",
    "convert_values(samples, 'grade', [0,1, 2, 3], [\"F\", \"C\", \"B\", \"A\"])\n",
    "convert_values(samples, 'college', [0,1], ['no', 'yes'])\n",
    "convert_values(samples, 'scholarship', [0,1], ['no', 'yes'])"
   ]
  },
  {
   "cell_type": "code",
   "execution_count": 10,
   "metadata": {
    "collapsed": true
   },
   "outputs": [],
   "source": [
    "def convert_values(df, feature_name, old_values, new_values):\n",
    "    for i in range(0, df[feature_name].size):\n",
    "        for j, value in enumerate(old_values):\n",
    "            if (df[feature_name][i] == value):\n",
    "                df[feature_name][i] = new_values[j]"
   ]
  },
  {
   "cell_type": "code",
   "execution_count": 102,
   "metadata": {},
   "outputs": [
    {
     "name": "stderr",
     "output_type": "stream",
     "text": [
      "/Users/HelenZhao/anaconda2/lib/python2.7/site-packages/ipykernel_launcher.py:5: SettingWithCopyWarning: \n",
      "A value is trying to be set on a copy of a slice from a DataFrame\n",
      "\n",
      "See the caveats in the documentation: http://pandas.pydata.org/pandas-docs/stable/indexing.html#indexing-view-versus-copy\n",
      "  \"\"\"\n"
     ]
    }
   ],
   "source": [
    "convert_values(samples, 'grade', [0,1, 2, 3], [\"F\", \"C\", \"B\", \"A\"])"
   ]
  },
  {
   "cell_type": "code",
   "execution_count": 25,
   "metadata": {},
   "outputs": [
    {
     "ename": "ValueError",
     "evalue": "famsupport not in scope.",
     "output_type": "error",
     "traceback": [
      "\u001b[0;31m---------------------------------------------------------------------------\u001b[0m",
      "\u001b[0;31mValueError\u001b[0m                                Traceback (most recent call last)",
      "\u001b[0;32m<ipython-input-25-354d20d5696d>\u001b[0m in \u001b[0;36m<module>\u001b[0;34m()\u001b[0m\n\u001b[0;32m----> 1\u001b[0;31m \u001b[0mextraclasses\u001b[0m\u001b[0;34m.\u001b[0m\u001b[0mmarginalize\u001b[0m\u001b[0;34m(\u001b[0m\u001b[0;34m[\u001b[0m\u001b[0;34m'famsupport'\u001b[0m\u001b[0;34m]\u001b[0m\u001b[0;34m)\u001b[0m\u001b[0;34m\u001b[0m\u001b[0m\n\u001b[0m\u001b[1;32m      2\u001b[0m \u001b[0mextraclasses\u001b[0m\u001b[0;34m.\u001b[0m\u001b[0mget_values\u001b[0m\u001b[0;34m(\u001b[0m\u001b[0;34m)\u001b[0m\u001b[0;34m\u001b[0m\u001b[0m\n",
      "\u001b[0;32m/Users/HelenZhao/anaconda2/lib/python2.7/site-packages/pgmpy/factors/discrete/CPD.pyc\u001b[0m in \u001b[0;36mmarginalize\u001b[0;34m(self, variables, inplace)\u001b[0m\n\u001b[1;32m    296\u001b[0m         \u001b[0mtabular_cpd\u001b[0m \u001b[0;34m=\u001b[0m \u001b[0mself\u001b[0m \u001b[0;32mif\u001b[0m \u001b[0minplace\u001b[0m \u001b[0;32melse\u001b[0m \u001b[0mself\u001b[0m\u001b[0;34m.\u001b[0m\u001b[0mcopy\u001b[0m\u001b[0;34m(\u001b[0m\u001b[0;34m)\u001b[0m\u001b[0;34m\u001b[0m\u001b[0m\n\u001b[1;32m    297\u001b[0m \u001b[0;34m\u001b[0m\u001b[0m\n\u001b[0;32m--> 298\u001b[0;31m         \u001b[0msuper\u001b[0m\u001b[0;34m(\u001b[0m\u001b[0mTabularCPD\u001b[0m\u001b[0;34m,\u001b[0m \u001b[0mtabular_cpd\u001b[0m\u001b[0;34m)\u001b[0m\u001b[0;34m.\u001b[0m\u001b[0mmarginalize\u001b[0m\u001b[0;34m(\u001b[0m\u001b[0mvariables\u001b[0m\u001b[0;34m)\u001b[0m\u001b[0;34m\u001b[0m\u001b[0m\n\u001b[0m\u001b[1;32m    299\u001b[0m         \u001b[0mtabular_cpd\u001b[0m\u001b[0;34m.\u001b[0m\u001b[0mnormalize\u001b[0m\u001b[0;34m(\u001b[0m\u001b[0;34m)\u001b[0m\u001b[0;34m\u001b[0m\u001b[0m\n\u001b[1;32m    300\u001b[0m \u001b[0;34m\u001b[0m\u001b[0m\n",
      "\u001b[0;32m/Users/HelenZhao/anaconda2/lib/python2.7/site-packages/pgmpy/factors/discrete/DiscreteFactor.pyc\u001b[0m in \u001b[0;36mmarginalize\u001b[0;34m(self, variables, inplace)\u001b[0m\n\u001b[1;32m    263\u001b[0m         \u001b[0;32mfor\u001b[0m \u001b[0mvar\u001b[0m \u001b[0;32min\u001b[0m \u001b[0mvariables\u001b[0m\u001b[0;34m:\u001b[0m\u001b[0;34m\u001b[0m\u001b[0m\n\u001b[1;32m    264\u001b[0m             \u001b[0;32mif\u001b[0m \u001b[0mvar\u001b[0m \u001b[0;32mnot\u001b[0m \u001b[0;32min\u001b[0m \u001b[0mphi\u001b[0m\u001b[0;34m.\u001b[0m\u001b[0mvariables\u001b[0m\u001b[0;34m:\u001b[0m\u001b[0;34m\u001b[0m\u001b[0m\n\u001b[0;32m--> 265\u001b[0;31m                 \u001b[0;32mraise\u001b[0m \u001b[0mValueError\u001b[0m\u001b[0;34m(\u001b[0m\u001b[0;34m\"{var} not in scope.\"\u001b[0m\u001b[0;34m.\u001b[0m\u001b[0mformat\u001b[0m\u001b[0;34m(\u001b[0m\u001b[0mvar\u001b[0m\u001b[0;34m=\u001b[0m\u001b[0mvar\u001b[0m\u001b[0;34m)\u001b[0m\u001b[0;34m)\u001b[0m\u001b[0;34m\u001b[0m\u001b[0m\n\u001b[0m\u001b[1;32m    266\u001b[0m \u001b[0;34m\u001b[0m\u001b[0m\n\u001b[1;32m    267\u001b[0m         \u001b[0mvar_indexes\u001b[0m \u001b[0;34m=\u001b[0m \u001b[0;34m[\u001b[0m\u001b[0mphi\u001b[0m\u001b[0;34m.\u001b[0m\u001b[0mvariables\u001b[0m\u001b[0;34m.\u001b[0m\u001b[0mindex\u001b[0m\u001b[0;34m(\u001b[0m\u001b[0mvar\u001b[0m\u001b[0;34m)\u001b[0m \u001b[0;32mfor\u001b[0m \u001b[0mvar\u001b[0m \u001b[0;32min\u001b[0m \u001b[0mvariables\u001b[0m\u001b[0;34m]\u001b[0m\u001b[0;34m\u001b[0m\u001b[0m\n",
      "\u001b[0;31mValueError\u001b[0m: famsupport not in scope."
     ]
    }
   ],
   "source": [
    "extraclasses.marginalize(['famsupport'])\n",
    "extraclasses.get_values()"
   ]
  },
  {
   "cell_type": "code",
   "execution_count": null,
   "metadata": {
    "collapsed": true
   },
   "outputs": [],
   "source": [
    "co = norm_2d([[5, 4, 2, 1, 1], \n",
    "              [1, 1, 1, 3, 5]])"
   ]
  },
  {
   "cell_type": "code",
   "execution_count": null,
   "metadata": {
    "collapsed": true
   },
   "outputs": [],
   "source": [
    "motheredu = TabularCPD('motheredu', 5, [[0.15],[0.35],[0.15],[0.15],[0.2]])\n",
    "college = TabularCPD('college', 2, co,\n",
    "                    evidence=['motheredu'],\n",
    "                    evidence_card=[5])"
   ]
  },
  {
   "cell_type": "code",
   "execution_count": null,
   "metadata": {
    "collapsed": true
   },
   "outputs": [],
   "source": [
    "college.marginalize(['motheredu'])\n",
    "college.get_values()"
   ]
  },
  {
   "cell_type": "code",
   "execution_count": null,
   "metadata": {
    "collapsed": true
   },
   "outputs": [],
   "source": [
    "# alcw = 1, freetime=0\n",
    "go = norm_2d([[5, 4, 1, 1, 0.4, 0.3, 0.4, 0.3, 0.3, 0.4, 0.4, 0.3, 0.05, 0.1, 0.1, 0.1],\n",
    "              [3, 3, 2, 2, 0.5, 0.6, 0.6, 0.5, 0.3, 0.4, 0.4, 0.3, 0.1, 0.2, 0.1, 0.1],\n",
    "              [2, 2, 3, 4, 0.3, 0.4, 0.4, 0.3, 0.5, 0.6, 0.6, 0.5, 0.3, 0.4, 0.4, 0.3],\n",
    "              [1, 1, 3, 5, 0.3, 0.4, 0.4, 0.3, 0.5, 0.6, 0.6, 0.5, 0.5, 0.6, 0.6, 0.5]])\n",
    "st = norm_2d([[0.1, 0.21, 0.10, 0.4],\n",
    "                                        [0.2, 0.25, 0.36, 0.4],\n",
    "                                        [0.45, 0.44, 0.3, 0.15],\n",
    "                                        [0.5, 0.330, 0.2, 0.05]])"
   ]
  },
  {
   "cell_type": "code",
   "execution_count": null,
   "metadata": {
    "collapsed": true
   },
   "outputs": [],
   "source": [
    "ft = norm_2d([[0.3], [0.4], [0.3], [0.2]])"
   ]
  },
  {
   "cell_type": "code",
   "execution_count": null,
   "metadata": {
    "collapsed": true
   },
   "outputs": [],
   "source": [
    "alcweekend = TabularCPD('alcweekend', 4, [[0.2, 0.3, 0.3, 0.2]])\n",
    "freetime = TabularCPD('freetimerating', 4, ft)\n",
    "goingout = TabularCPD('goingoutrating', 4, go,\n",
    "                     evidence=['alcweekend', 'freetimerating'],\n",
    "                     evidence_card=[4,4])\n",
    "studytime = TabularCPD('studytime', 4, st, \n",
    "                      evidence=['alcweekend'],\n",
    "                      evidence_card=[4])\n"
   ]
  },
  {
   "cell_type": "code",
   "execution_count": null,
   "metadata": {
    "collapsed": true
   },
   "outputs": [],
   "source": [
    "goingout.marginalize(['alcweekend'])\n",
    "goingout.get_values()\n",
    "studytime.marginalize(['alcweekend'])\n",
    "studytime.get_values()"
   ]
  },
  {
   "cell_type": "code",
   "execution_count": null,
   "metadata": {
    "collapsed": true
   },
   "outputs": [],
   "source": [
    "g = norm_2d([[0.5, 0.6, 0.3, 0.2, 0.4, 0.3, 0.2, 0.2, 0.2, 0.3, 0.15, 0.15, 0.05, 0.05, 0.1, 0.1],\n",
    "                                [0.3, 0.4, 0.3, 0.3, 0.5, 0.6, 0.6, 0.5, 0.3, 0.4, 0.4, 0.3, 0.1, 0.2, 0.1, 0.1],\n",
    "                                [0.2, 0.2, 0.25, 0.3, 0.2, 0.2, 0.4, 0.3, 0.45, 0.55, 0.5, 0.5, 0.2, 0.2, 0.4, 0.3],\n",
    "                                [0.2, 0.2, 0.5, 0.4, 0.2, 0.2, 0.35, 0.35, 0.2, 0.25, 0.4, 0.4, 0.1, 0.2, 0.6, 0.7]])\n",
    "\n",
    "f = norm_2d([[0.05, 0.1, 0.65, 0.75, 0.05, 0.12, 0.75, 0.6, 0.15, 0.1, 0.15, 0.15, 0.05, 0.1, 0.1, 0.1],\n",
    "                                    [0.1, 0.2, 0.35, 0.55, 0.1, 0.1, 0.3, 0.5, 0.1, 0.3, 0.4, 0.3, 0.2, 0.3, 0.2, 0.2],\n",
    "                                    [0.2, 0.4, 0.3, 0.2, 0.3, 0.4, 0.4, 0.3, 0.5, 0.6, 0.6, 0.5, 0.3, 0.4, 0.4, 0.3],\n",
    "                                    [0.2, 0.4, 0.3, 0.2, 0.3, 0.4, 0.2, 0.3, 0.6, 0.7, 0.2, 0.1, 0.75, 0.55, 0.1, 0.1]])"
   ]
  },
  {
   "cell_type": "code",
   "execution_count": null,
   "metadata": {
    "collapsed": true
   },
   "outputs": [],
   "source": [
    "fe = norm_2d([[0.2166666666666667], [0.25], [0.16666666666666669], [0.16666666666666669], [0.2]])"
   ]
  },
  {
   "cell_type": "code",
   "execution_count": null,
   "metadata": {
    "collapsed": true
   },
   "outputs": [],
   "source": [
    "grade = TabularCPD('grade', 4, g, \n",
    "                     evidence=['extraclasses', 'college'],\n",
    "                     evidence_card=[4,4])\n",
    "\n",
    "failure = TabularCPD('failure', 4, f, \n",
    "                     evidence=['goingoutrating', 'grade'],\n",
    "                     evidence_card=[4,4])"
   ]
  },
  {
   "cell_type": "code",
   "execution_count": null,
   "metadata": {
    "collapsed": true
   },
   "outputs": [],
   "source": [
    "grade.marginalize(['extraclasses'])\n",
    "grade.get_values()"
   ]
  },
  {
   "cell_type": "code",
   "execution_count": null,
   "metadata": {
    "collapsed": true
   },
   "outputs": [],
   "source": [
    "fe = norm_2d([[0.2],[0.45],[0.15],[0.35],[0.2]])"
   ]
  },
  {
   "cell_type": "code",
   "execution_count": null,
   "metadata": {
    "collapsed": true
   },
   "outputs": [],
   "source": [
    "fatheredu = TabularCPD('fatheredu', 5, fe)"
   ]
  },
  {
   "cell_type": "code",
   "execution_count": null,
   "metadata": {
    "collapsed": true
   },
   "outputs": [],
   "source": [
    "student.add_cpds(fatheredu)"
   ]
  },
  {
   "cell_type": "code",
   "execution_count": null,
   "metadata": {
    "collapsed": true
   },
   "outputs": [],
   "source": [
    "student.add_cpds(familysupport)\n",
    "student.add_cpds(extraclasses)\n",
    "student.add_cpds(motheredu)\n",
    "student.add_cpds(college)\n",
    "student.add_cpds(grade)\n",
    "student.add_cpds(failure)\n",
    "student.add_cpds(fatheredu)\n",
    "student.add_cpds(alcweekend)\n",
    "student.add_cpds(freetime)\n",
    "student.add_cpds(goingout)\n",
    "student.add_cpds(studytime)\n",
    "student.add_cpds(age)\n",
    "student.add_cpds(schoolsupport)"
   ]
  },
  {
   "cell_type": "code",
   "execution_count": null,
   "metadata": {
    "collapsed": true
   },
   "outputs": [],
   "source": [
    "inference = BayesianModelSampling(student)\n",
    "samples = inference.forward_sample(size=1000, return_type='dataframe')"
   ]
  },
  {
   "cell_type": "code",
   "execution_count": null,
   "metadata": {
    "collapsed": true
   },
   "outputs": [],
   "source": [
    "samples.head()"
   ]
  },
  {
   "cell_type": "code",
   "execution_count": null,
   "metadata": {
    "collapsed": true
   },
   "outputs": [],
   "source": [
    "dot_str"
   ]
  },
  {
   "cell_type": "code",
   "execution_count": null,
   "metadata": {
    "collapsed": true
   },
   "outputs": [],
   "source": [
    "X = samples.drop(['grade'], axis=1)\n",
    "X.head()"
   ]
  },
  {
   "cell_type": "code",
   "execution_count": null,
   "metadata": {
    "collapsed": true
   },
   "outputs": [],
   "source": [
    "y = pd.DataFrame(samples['grade'])\n",
    "y.head()"
   ]
  },
  {
   "cell_type": "code",
   "execution_count": null,
   "metadata": {
    "collapsed": true
   },
   "outputs": [],
   "source": [
    "X.columns"
   ]
  },
  {
   "cell_type": "code",
   "execution_count": 14,
   "metadata": {
    "collapsed": true
   },
   "outputs": [],
   "source": [
    "classifiers = [\n",
    "    KNeighborsClassifier(3),\n",
    "    SVC(kernel=\"linear\", C=0.025),\n",
    "    SVC(gamma=2, C=1),\n",
    "    DecisionTreeClassifier(max_depth=5),\n",
    "    RandomForestClassifier(max_depth=5, n_estimators=10, max_features=1),\n",
    "    GaussianNB()]\n",
    "index = 1\n",
    "clf = classifiers[index]\n",
    "skf = StratifiedKFold(n_splits=5)"
   ]
  },
  {
   "cell_type": "code",
   "execution_count": null,
   "metadata": {
    "collapsed": true
   },
   "outputs": [],
   "source": []
  },
  {
   "cell_type": "code",
   "execution_count": null,
   "metadata": {
    "collapsed": true
   },
   "outputs": [],
   "source": [
    "features = ['college', 'extraclasses']\n",
    "X = samples.loc[:,features]\n",
    "X.head()"
   ]
  },
  {
   "cell_type": "code",
   "execution_count": 11,
   "metadata": {
    "collapsed": true
   },
   "outputs": [],
   "source": [
    "index = 0\n",
    "clf = classifiers[index]\n",
    "skf = StratifiedKFold(n_splits=5)\n",
    "#y_pred = cross_val_predict(clf, X, y['grade'], cv=skf)"
   ]
  },
  {
   "cell_type": "code",
   "execution_count": null,
   "metadata": {
    "collapsed": true
   },
   "outputs": [],
   "source": [
    "features = ['extraclasses', 'college']\n",
    "X = s.loc[:,features]\n",
    "index = 5\n",
    "accuracy = cross_val_score(clf, X, s['grade'], cv=skf)\n",
    "accuracy"
   ]
  },
  {
   "cell_type": "code",
   "execution_count": 19,
   "metadata": {},
   "outputs": [
    {
     "ename": "AttributeError",
     "evalue": "'list' object has no attribute 'loc'",
     "output_type": "error",
     "traceback": [
      "\u001b[0;31m---------------------------------------------------------------------------\u001b[0m",
      "\u001b[0;31mAttributeError\u001b[0m                            Traceback (most recent call last)",
      "\u001b[0;32m<ipython-input-19-41163c9ea9c0>\u001b[0m in \u001b[0;36m<module>\u001b[0;34m()\u001b[0m\n\u001b[1;32m      1\u001b[0m \u001b[0mfeatures\u001b[0m \u001b[0;34m=\u001b[0m \u001b[0;34m[\u001b[0m\u001b[0;34m'extraclasses'\u001b[0m\u001b[0;34m,\u001b[0m \u001b[0;34m'college'\u001b[0m\u001b[0;34m]\u001b[0m\u001b[0;34m\u001b[0m\u001b[0m\n\u001b[0;32m----> 2\u001b[0;31m \u001b[0mX\u001b[0m \u001b[0;34m=\u001b[0m \u001b[0ms\u001b[0m\u001b[0;34m.\u001b[0m\u001b[0mloc\u001b[0m\u001b[0;34m[\u001b[0m\u001b[0;34m:\u001b[0m\u001b[0;34m,\u001b[0m\u001b[0mfeatures\u001b[0m\u001b[0;34m]\u001b[0m\u001b[0;34m\u001b[0m\u001b[0m\n\u001b[0m\u001b[1;32m      3\u001b[0m \u001b[0mindex\u001b[0m \u001b[0;34m=\u001b[0m \u001b[0;36m1\u001b[0m\u001b[0;34m\u001b[0m\u001b[0m\n\u001b[1;32m      4\u001b[0m \u001b[0mclf\u001b[0m \u001b[0;34m=\u001b[0m \u001b[0mclassifiers\u001b[0m\u001b[0;34m[\u001b[0m\u001b[0mindex\u001b[0m\u001b[0;34m]\u001b[0m\u001b[0;34m\u001b[0m\u001b[0m\n\u001b[1;32m      5\u001b[0m \u001b[0mclf\u001b[0m\u001b[0;34m.\u001b[0m\u001b[0mfit\u001b[0m\u001b[0;34m(\u001b[0m\u001b[0mX\u001b[0m\u001b[0;34m,\u001b[0m\u001b[0ms\u001b[0m\u001b[0;34m[\u001b[0m\u001b[0;34m'grade'\u001b[0m\u001b[0;34m]\u001b[0m\u001b[0;34m)\u001b[0m\u001b[0;34m\u001b[0m\u001b[0m\n",
      "\u001b[0;31mAttributeError\u001b[0m: 'list' object has no attribute 'loc'"
     ]
    }
   ],
   "source": [
    "features = ['extraclasses', 'college']\n",
    "X = s.loc[:,features]\n",
    "index = 1\n",
    "clf = classifiers[index]\n",
    "clf.fit(X,s['grade'])\n",
    "clf.score(X, s['grade'])"
   ]
  },
  {
   "cell_type": "code",
   "execution_count": 108,
   "metadata": {
    "collapsed": true
   },
   "outputs": [],
   "source": [
    "from pgmpy.factors.continuous import ContinuousFactor\n",
    "from pgmpy.models import LinearGaussianBayesianNetwork"
   ]
  },
  {
   "cell_type": "code",
   "execution_count": 15,
   "metadata": {},
   "outputs": [
    {
     "name": "stdout",
     "output_type": "stream",
     "text": [
      "[ 0.9047619   0.85        0.9         0.79487179  0.8974359 ]\n",
      "[ 0.85714286  0.875       0.925       0.74358974  0.82051282]\n"
     ]
    }
   ],
   "source": [
    "weather = BayesianModel([(\"WeatherCondition\", \"Precipitation\"), \n",
    "  (\"Humidity\",\"WeatherCondition\"), \n",
    "  (\"LowTemp\", \"WeatherCondition\"), \n",
    "  (\"HistoricAvgTemp\", \"LowTemp\"), \n",
    "  (\"AirPressure\", \"Humidity\"),\n",
    "  (\"HistoricAvgRainfall\", \"Precipitation\")])\n",
    "\n",
    "# 29.0, 29.5, 30 \n",
    "AirPressure = TabularCPD('AirPressure', 3, [[0.35], [0.3], [0.35]])\n",
    "\n",
    "# 50 60 70 80\n",
    "HistoricAvgTempcpd = norm_2d([[0.2], [0.8], [0.4], [0.2]])\n",
    "HistoricAvgTemp = TabularCPD('HistoricAvgTemp', 4, [ [0.25], [0.3], [0.2], [0.25]])\n",
    "\n",
    "# < 1 in, < 2 in, >2 in\n",
    "HistoricAvgRainfall = TabularCPD('HistoricAvgRainfall', 3, [[0.25], [0.25], [0.5]])\n",
    "\n",
    "# low, mid, high\n",
    "humiditycpd = norm_2d([[1, 10, 90], \n",
    "                       [10, 90, 10],\n",
    "                       [90, 10, 1]])\n",
    "\n",
    "Humidity = TabularCPD('Humidity', 3, humiditycpd, evidence=['AirPressure'], evidence_card=[3])\n",
    "\n",
    "# 50 60 70 80\n",
    "LowTempcpd = norm_2d([[90, 10, 1, 1], \n",
    "                       [10, 90, 10, 1],\n",
    "                       [1, 10, 90, 1], \n",
    "                      [1, 1, 2, 90]])\n",
    "LowTemp = TabularCPD('LowTemp', 4, LowTempcpd, evidence=['HistoricAvgTemp'], evidence_card=[4])\n",
    "\n",
    "# high 40\n",
    "# sunny, foggy, rainy\n",
    "WeatherConditioncpd = norm_2d([[70, 80, 80, 99, 10, 10, 10, 10, 2, 1, 1, 1], \n",
    "                             [5, 5, 5, 5, 80, 80,10,10, 90, 80, 10, 5],\n",
    "                             [1, 2, 2, 2, 10, 20, 50, 70, 1, 1, 80, 90]])\n",
    "WeatherCondition = TabularCPD('WeatherCondition', 3, WeatherConditioncpd, \n",
    "                              evidence=['Humidity', 'LowTemp'], evidence_card=[3, 4])\n",
    "\n",
    "# < 1 in, < 2 in, >2 in\n",
    "Precipitationcpd = norm_2d([[99, 80, 70, 50, 1, 10, 90, 2, 1],\n",
    "                           [1, 5, 5, 2, 70, 1, 10, 90,2], \n",
    "                           [1, 1, 1, 2, 5, 70, 2, 1, 90]])\n",
    "\n",
    "Precipitation = TabularCPD('Precipitation', 3, Precipitationcpd, \n",
    "                              evidence=['WeatherCondition', 'HistoricAvgRainfall'], evidence_card=[3, 3])\n",
    "\n",
    "weather.add_cpds(AirPressure, HistoricAvgTemp, Humidity, LowTemp, WeatherCondition, Precipitation, HistoricAvgRainfall)\n",
    "inf = BayesianModelSampling(weather)\n",
    "samples = inf.forward_sample(size=200, return_type='dataframe')\n",
    "features = ['Precipitation', 'Humidity', 'LowTemp', 'HistoricAvgRainfall']\n",
    "X = samples.loc[:,features]\n",
    "accuracy = cross_val_score(clf, X, samples['WeatherCondition'], cv=skf)\n",
    "print accuracy\n",
    "features = ['Humidity', 'LowTemp']\n",
    "X = samples.loc[:,features]\n",
    "accuracy = cross_val_score(clf, X, samples['WeatherCondition'], cv=skf)\n",
    "print accuracy"
   ]
  },
  {
   "cell_type": "code",
   "execution_count": 16,
   "metadata": {},
   "outputs": [
    {
     "name": "stdout",
     "output_type": "stream",
     "text": [
      "[ 0.88095238  0.85        0.875       0.76923077  0.87179487]\n"
     ]
    }
   ],
   "source": [
    "features = ['Precipitation', 'AirPressure', 'LowTemp', 'HistoricAvgRainfall']\n",
    "X = samples.loc[:,features]\n",
    "accuracy = cross_val_score(clf, X, samples['WeatherCondition'], cv=skf)\n",
    "print accuracy"
   ]
  },
  {
   "cell_type": "code",
   "execution_count": 17,
   "metadata": {},
   "outputs": [
    {
     "name": "stdout",
     "output_type": "stream",
     "text": [
      "[ 0.88095238  0.85        0.85        0.71794872  0.87179487]\n"
     ]
    }
   ],
   "source": [
    "features = ['Precipitation', 'AirPressure', 'LowTemp', 'HistoricAvgTemp']\n",
    "X = samples.loc[:,features]\n",
    "accuracy = cross_val_score(clf, X, samples['WeatherCondition'], cv=skf)\n",
    "print accuracy"
   ]
  },
  {
   "cell_type": "code",
   "execution_count": 26,
   "metadata": {},
   "outputs": [],
   "source": [
    "p = pycausal()\n",
    "p.start_vm()\n",
    "tetrad = search.tetradrunner()\n",
    "tetrad.run(algoId = 'fges', dfs = samples, scoreId = 'sem-bic', dataType = 'continuous',penaltyDiscount = 2, maxDegree = -1, faithfulnessAssumed = True, verbose = True)"
   ]
  },
  {
   "cell_type": "code",
   "execution_count": 28,
   "metadata": {},
   "outputs": [
    {
     "data": {
      "text/plain": [
       "Instance of edu.cmu.tetrad.graph.EdgeListGraphSingleConnections: Graph Nodes:\n",
       "HistoricAvgTemp,LowTemp,HistoricAvgRainfall,AirPressure,Humidity,WeatherCondition,Precipitation\n",
       "\n",
       "Graph Edges:\n",
       "1. Humidity --- AirPressure\n",
       "2. Humidity --- WeatherCondition\n",
       "3. LowTemp --- HistoricAvgTemp\n",
       "4. Precipitation --- HistoricAvgRainfall\n",
       "5. WeatherCondition --- Precipitation"
      ]
     },
     "execution_count": 28,
     "metadata": {},
     "output_type": "execute_result"
    }
   ],
   "source": [
    "tetrad.getTetradGraph()"
   ]
  },
  {
   "cell_type": "code",
   "execution_count": 27,
   "metadata": {},
   "outputs": [
    {
     "ename": "TypeError",
     "evalue": "unbound method tetradGraphToDot() must be called with pycausal instance as first argument (got JWrapper instance instead)",
     "output_type": "error",
     "traceback": [
      "\u001b[0;31m---------------------------------------------------------------------------\u001b[0m",
      "\u001b[0;31mTypeError\u001b[0m                                 Traceback (most recent call last)",
      "\u001b[0;32m<ipython-input-27-aaf91045d641>\u001b[0m in \u001b[0;36m<module>\u001b[0;34m()\u001b[0m\n\u001b[1;32m      1\u001b[0m \u001b[0;34m\u001b[0m\u001b[0m\n\u001b[0;32m----> 2\u001b[0;31m \u001b[0mdot_str\u001b[0m \u001b[0;34m=\u001b[0m \u001b[0mpycausal\u001b[0m\u001b[0;34m.\u001b[0m\u001b[0mtetradGraphToDot\u001b[0m\u001b[0;34m(\u001b[0m\u001b[0mtetrad\u001b[0m\u001b[0;34m.\u001b[0m\u001b[0mgetTetradGraph\u001b[0m\u001b[0;34m(\u001b[0m\u001b[0;34m)\u001b[0m\u001b[0;34m)\u001b[0m\u001b[0;34m\u001b[0m\u001b[0m\n\u001b[0m\u001b[1;32m      3\u001b[0m \u001b[0mgraphs\u001b[0m \u001b[0;34m=\u001b[0m \u001b[0mpydot\u001b[0m\u001b[0;34m.\u001b[0m\u001b[0mgraph_from_dot_data\u001b[0m\u001b[0;34m(\u001b[0m\u001b[0mdot_str\u001b[0m\u001b[0;34m)\u001b[0m\u001b[0;34m\u001b[0m\u001b[0m\n\u001b[1;32m      4\u001b[0m \u001b[0msvg_str\u001b[0m \u001b[0;34m=\u001b[0m \u001b[0mgraphs\u001b[0m\u001b[0;34m[\u001b[0m\u001b[0;36m0\u001b[0m\u001b[0;34m]\u001b[0m\u001b[0;34m.\u001b[0m\u001b[0mcreate_svg\u001b[0m\u001b[0;34m(\u001b[0m\u001b[0;34m)\u001b[0m\u001b[0;34m\u001b[0m\u001b[0m\n\u001b[1;32m      5\u001b[0m \u001b[0mSVG\u001b[0m\u001b[0;34m(\u001b[0m\u001b[0msvg_str\u001b[0m\u001b[0;34m)\u001b[0m\u001b[0;34m\u001b[0m\u001b[0m\n",
      "\u001b[0;31mTypeError\u001b[0m: unbound method tetradGraphToDot() must be called with pycausal instance as first argument (got JWrapper instance instead)"
     ]
    }
   ],
   "source": [
    "\n",
    "dot_str = pycausal.tetradGraphToDot(tetrad.getTetradGraph())\n",
    "graphs = pydot.graph_from_dot_data(dot_str)\n",
    "svg_str = graphs[0].create_svg()\n",
    "SVG(svg_str)"
   ]
  },
  {
   "cell_type": "code",
   "execution_count": 160,
   "metadata": {
    "collapsed": true
   },
   "outputs": [],
   "source": [
    "convert_values(samples, 'HistoricAvgTemp', [0,1,2,3], ['50-59F', '60-69F', '70-79F', '80-89F'])"
   ]
  },
  {
   "cell_type": "code",
   "execution_count": 162,
   "metadata": {
    "collapsed": true
   },
   "outputs": [],
   "source": [
    "convert_values(samples, 'LowTemp', [0,1,2], ['50-59F', '60-69F', '70-79F', '80-89F'])"
   ]
  },
  {
   "cell_type": "code",
   "execution_count": 165,
   "metadata": {
    "collapsed": true
   },
   "outputs": [],
   "source": [
    "convert_values(samples, 'HistoricAvgRainfall', [0,1,2], ['0-1in', '1-2in', '>2in'])"
   ]
  },
  {
   "cell_type": "code",
   "execution_count": 167,
   "metadata": {
    "collapsed": true
   },
   "outputs": [],
   "source": [
    "convert_values(samples, 'AirPressure', [0,1,2], ['29-29.5in', '29.5-30in', '>30in'])"
   ]
  },
  {
   "cell_type": "code",
   "execution_count": 169,
   "metadata": {
    "collapsed": true
   },
   "outputs": [],
   "source": [
    "convert_values(samples, 'Humidity', [0,1,2], ['low', 'medium', 'high'])"
   ]
  },
  {
   "cell_type": "code",
   "execution_count": 170,
   "metadata": {},
   "outputs": [
    {
     "name": "stderr",
     "output_type": "stream",
     "text": [
      "/Users/HelenZhao/anaconda2/lib/python2.7/site-packages/ipykernel_launcher.py:5: SettingWithCopyWarning: \n",
      "A value is trying to be set on a copy of a slice from a DataFrame\n",
      "\n",
      "See the caveats in the documentation: http://pandas.pydata.org/pandas-docs/stable/indexing.html#indexing-view-versus-copy\n",
      "  \"\"\"\n"
     ]
    }
   ],
   "source": [
    "convert_values(samples, 'WeatherCondition', [0,1,2], ['sunny', 'foggy', 'rainy'])"
   ]
  },
  {
   "cell_type": "code",
   "execution_count": 171,
   "metadata": {},
   "outputs": [
    {
     "name": "stderr",
     "output_type": "stream",
     "text": [
      "/Users/HelenZhao/anaconda2/lib/python2.7/site-packages/ipykernel_launcher.py:5: SettingWithCopyWarning: \n",
      "A value is trying to be set on a copy of a slice from a DataFrame\n",
      "\n",
      "See the caveats in the documentation: http://pandas.pydata.org/pandas-docs/stable/indexing.html#indexing-view-versus-copy\n",
      "  \"\"\"\n"
     ]
    }
   ],
   "source": [
    "convert_values(samples, 'Precipitation', [0,1,2], ['0-1in', '1-2in', '>2in'])"
   ]
  },
  {
   "cell_type": "code",
   "execution_count": 173,
   "metadata": {},
   "outputs": [
    {
     "data": {
      "text/html": [
       "<div>\n",
       "<style>\n",
       "    .dataframe thead tr:only-child th {\n",
       "        text-align: right;\n",
       "    }\n",
       "\n",
       "    .dataframe thead th {\n",
       "        text-align: left;\n",
       "    }\n",
       "\n",
       "    .dataframe tbody tr th {\n",
       "        vertical-align: top;\n",
       "    }\n",
       "</style>\n",
       "<table border=\"1\" class=\"dataframe\">\n",
       "  <thead>\n",
       "    <tr style=\"text-align: right;\">\n",
       "      <th></th>\n",
       "      <th>HistoricAvgTemp</th>\n",
       "      <th>LowTemp</th>\n",
       "      <th>HistoricAvgRainfall</th>\n",
       "      <th>AirPressure</th>\n",
       "      <th>Humidity</th>\n",
       "      <th>Precipitation</th>\n",
       "      <th>WeatherCondition</th>\n",
       "    </tr>\n",
       "  </thead>\n",
       "  <tbody>\n",
       "    <tr>\n",
       "      <th>0</th>\n",
       "      <td>80-89F</td>\n",
       "      <td>70-79F</td>\n",
       "      <td>&gt;2in</td>\n",
       "      <td>29-29.5in</td>\n",
       "      <td>high</td>\n",
       "      <td>&gt;2in</td>\n",
       "      <td>rainy</td>\n",
       "    </tr>\n",
       "    <tr>\n",
       "      <th>1</th>\n",
       "      <td>50-59F</td>\n",
       "      <td>50-59F</td>\n",
       "      <td>&gt;2in</td>\n",
       "      <td>&gt;30in</td>\n",
       "      <td>low</td>\n",
       "      <td>0-1in</td>\n",
       "      <td>sunny</td>\n",
       "    </tr>\n",
       "    <tr>\n",
       "      <th>2</th>\n",
       "      <td>70-79F</td>\n",
       "      <td>70-79F</td>\n",
       "      <td>1-2in</td>\n",
       "      <td>&gt;30in</td>\n",
       "      <td>medium</td>\n",
       "      <td>1-2in</td>\n",
       "      <td>rainy</td>\n",
       "    </tr>\n",
       "    <tr>\n",
       "      <th>3</th>\n",
       "      <td>60-69F</td>\n",
       "      <td>60-69F</td>\n",
       "      <td>1-2in</td>\n",
       "      <td>&gt;30in</td>\n",
       "      <td>low</td>\n",
       "      <td>0-1in</td>\n",
       "      <td>sunny</td>\n",
       "    </tr>\n",
       "    <tr>\n",
       "      <th>4</th>\n",
       "      <td>70-79F</td>\n",
       "      <td>70-79F</td>\n",
       "      <td>1-2in</td>\n",
       "      <td>&gt;30in</td>\n",
       "      <td>low</td>\n",
       "      <td>1-2in</td>\n",
       "      <td>foggy</td>\n",
       "    </tr>\n",
       "  </tbody>\n",
       "</table>\n",
       "</div>"
      ],
      "text/plain": [
       "  HistoricAvgTemp LowTemp HistoricAvgRainfall AirPressure Humidity  \\\n",
       "0          80-89F  70-79F                >2in   29-29.5in     high   \n",
       "1          50-59F  50-59F                >2in       >30in      low   \n",
       "2          70-79F  70-79F               1-2in       >30in   medium   \n",
       "3          60-69F  60-69F               1-2in       >30in      low   \n",
       "4          70-79F  70-79F               1-2in       >30in      low   \n",
       "\n",
       "  Precipitation WeatherCondition  \n",
       "0          >2in            rainy  \n",
       "1         0-1in            sunny  \n",
       "2         1-2in            rainy  \n",
       "3         0-1in            sunny  \n",
       "4         1-2in            foggy  "
      ]
     },
     "execution_count": 173,
     "metadata": {},
     "output_type": "execute_result"
    }
   ],
   "source": [
    "cols = list(samples)\n",
    "# move the column to head of list using index, pop and insert\n",
    "cols.append(cols.pop(cols.index('WeatherCondition')))\n",
    "samples = samples.loc[:, cols]\n",
    "samples.head()"
   ]
  },
  {
   "cell_type": "code",
   "execution_count": 174,
   "metadata": {
    "collapsed": true
   },
   "outputs": [],
   "source": [
    "samples.to_csv('datafile_weather.csv', index=False)"
   ]
  },
  {
   "cell_type": "code",
   "execution_count": null,
   "metadata": {
    "collapsed": true
   },
   "outputs": [],
   "source": []
  }
 ],
 "metadata": {
  "kernelspec": {
   "display_name": "Python 2",
   "language": "python",
   "name": "python2"
  },
  "language_info": {
   "codemirror_mode": {
    "name": "ipython",
    "version": 2
   },
   "file_extension": ".py",
   "mimetype": "text/x-python",
   "name": "python",
   "nbconvert_exporter": "python",
   "pygments_lexer": "ipython2",
   "version": "2.7.14"
  }
 },
 "nbformat": 4,
 "nbformat_minor": 2
}
